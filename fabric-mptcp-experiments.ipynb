{
 "cells": [
  {
   "cell_type": "markdown",
   "id": "4c642198-0eb5-4f80-8457-22ff0e896e27",
   "metadata": {
    "tags": []
   },
   "source": [
    "# Multipath TCP experiments"
   ]
  },
  {
   "cell_type": "markdown",
   "id": "0d8dff36-00fa-48f5-829d-845e2f87d0a0",
   "metadata": {},
   "source": [
    "In this notebook we create a multipath topology in FABRIC with the intent of evaluating various multipath protocols such us MPTCP with different link types and application traffic."
   ]
  },
  {
   "cell_type": "markdown",
   "id": "18e223f2-1125-4d9b-924e-493b15e8060a",
   "metadata": {},
   "source": [
    "## Multipath Topology"
   ]
  },
  {
   "cell_type": "markdown",
   "id": "3169247d-95e6-4606-bd5a-e4ed0d28b94f",
   "metadata": {},
   "source": [
    "![multipath-diagram.svg](multipath-diagram.svg)"
   ]
  },
  {
   "cell_type": "markdown",
   "id": "917d4166-4b92-4200-91a8-91ec5c6c199e",
   "metadata": {},
   "source": [
    "## Set up environment"
   ]
  },
  {
   "cell_type": "markdown",
   "id": "afbf054b-18ce-4ecb-9c6a-c77ffe9606a8",
   "metadata": {},
   "source": [
    "It is assumed that the keys, the FABRIC config file, and the SSH config file are already created (in the \"Configure your environment\" notebook) using those default settings (paths, etc)."
   ]
  },
  {
   "cell_type": "code",
   "execution_count": null,
   "id": "54d95045-f7cb-43c7-9c8e-f6735cb5801f",
   "metadata": {},
   "outputs": [],
   "source": [
    "from fabrictestbed_extensions.fablib.fablib import FablibManager as fablib_manager\n",
    "fablib = fablib_manager() \n",
    "conf = fablib.show_config()"
   ]
  },
  {
   "cell_type": "code",
   "execution_count": null,
   "id": "85a68196-0c63-4098-a15b-00dc8b10caa6",
   "metadata": {},
   "outputs": [],
   "source": [
    "!chmod 600 {fablib.get_bastion_key_filename()}\n",
    "!chmod 600 {fablib.get_default_slice_private_key_file()}"
   ]
  },
  {
   "cell_type": "code",
   "execution_count": null,
   "id": "03d64107-b56e-4efa-b677-0bf44833ef58",
   "metadata": {},
   "outputs": [],
   "source": [
    "import os\n",
    "slice_name=\"mptcp-base\" + os.getenv('NB_USER')"
   ]
  },
  {
   "cell_type": "code",
   "execution_count": null,
   "id": "e3c3bfbf-e7c8-47d1-93ca-d7d316036d56",
   "metadata": {},
   "outputs": [],
   "source": [
    "try:\n",
    "    slice = fablib.get_slice(slice_name)\n",
    "    print(\"You already have a slice by this name!\")\n",
    "    print(\"If you previously reserved resources, skip to the 'log in to resources' section.\")\n",
    "except:\n",
    "    print(\"You don't have a slice named %s yet.\" % slice_name)\n",
    "    print(\"Continue to the next step to make one.\")\n",
    "    slice = fablib.new_slice(name=slice_name)"
   ]
  },
  {
   "cell_type": "markdown",
   "id": "f0ce3da0-d7ab-4337-8592-7248d93fd2df",
   "metadata": {},
   "source": [
    "## Use previously reserved resources (if needed)"
   ]
  },
  {
   "cell_type": "markdown",
   "id": "02b96f51-ddc2-4ea1-8108-020cc70fbe6a",
   "metadata": {
    "tags": []
   },
   "source": [
    "See if you already have the slice"
   ]
  },
  {
   "cell_type": "code",
   "execution_count": null,
   "id": "be0da5c6-ea8d-45eb-a7ef-2a4f756479f6",
   "metadata": {},
   "outputs": [],
   "source": [
    "try:\n",
    "    slice = fablib.get_slice(slice_name)\n",
    "    print(\"You already have a slice by this name!\")\n",
    "    print(\"If you previously reserved resources, skip to the 'log in to resources' section.\")\n",
    "except:\n",
    "    print(\"You don't have a slice named %s yet.\" % slice_name)\n",
    "    print(\"Continue to the next step to make one.\")\n",
    "    slice = fablib.new_slice(name=slice_name)"
   ]
  },
  {
   "cell_type": "markdown",
   "id": "a62ad66f-d547-480e-bd92-8ee39390a2d3",
   "metadata": {},
   "source": [
    "## Create slice and reserve resources (only if you don't already have)"
   ]
  },
  {
   "cell_type": "markdown",
   "id": "f1794a4f-35df-49fd-95c4-2ebf82155975",
   "metadata": {},
   "source": [
    "Next, we’ll select a random FABRIC site for our experiment. We’ll make sure to get one that has sufficient capacity for the experiment we’re going to run.\n",
    "\n",
    "Once we find a suitable site, we’ll print details about available resources at this site.\n"
   ]
  },
  {
   "cell_type": "code",
   "execution_count": null,
   "id": "b89291de-c875-42f4-80e5-da8a9c6ae416",
   "metadata": {},
   "outputs": [],
   "source": [
    "exp_requires = {'core': 4*6, 'nic':12, 'ram':32*6}\n",
    "while True:\n",
    "    site_name = fablib.get_random_site()\n",
    "    if ( (fablib.resources.get_core_available(site_name) > 1.2*exp_requires['core']) and\n",
    "         (fablib.resources.get_ram_available(site_name) > 1.2*exp_requires['ram']) and\n",
    "         (fablib.resources.get_component_available(site_name, 'SharedNIC-ConnectX-6') > 1.2**exp_requires['nic']) ):\n",
    "        break\n",
    "\n",
    "fablib.show_site(site_name)"
   ]
  },
  {
   "cell_type": "markdown",
   "id": "1862a491-4f0a-4fab-a038-d3b6bd477edb",
   "metadata": {},
   "source": [
    "Add nodes to the slice (note: use Ubuntu 18 because the MPTCP kernel is based on kernel 4.19):"
   ]
  },
  {
   "cell_type": "code",
   "execution_count": null,
   "id": "22001fba-6b90-4ca1-aad9-048d24ac1258",
   "metadata": {},
   "outputs": [],
   "source": [
    "# to be deleted, since next cell sets up the nodes !!!\n",
    "n_c  = slice.add_node(name=\"client\",    site=site_name, cores=4, ram=32, disk=100, image='default_ubuntu_18')\n",
    "n_s  = slice.add_node(name=\"server\",    site=site_name, cores=4, ram=32, disk=100, image='default_ubuntu_18')\n",
    "n_r1 = slice.add_node(name=\"router1\",   site=site_name, cores=4, ram=32, disk=100, image='default_ubuntu_18')\n",
    "n_e1 = slice.add_node(name=\"emulator1\", site=site_name, cores=4, ram=32, disk=100, image='default_ubuntu_18')\n",
    "n_r2 = slice.add_node(name=\"router2\",   site=site_name, cores=4, ram=32, disk=100, image='default_ubuntu_18')\n",
    "n_e2 = slice.add_node(name=\"emulator2\", site=site_name, cores=4, ram=32, disk=100, image='default_ubuntu_18')"
   ]
  },
  {
   "cell_type": "code",
   "execution_count": null,
   "id": "8d3d74ad-6f9c-4890-a8c5-44dbe54385f4",
   "metadata": {},
   "outputs": [],
   "source": [
    "# this cell sets up the nodes\n",
    "node_names = [\"client\", \"server\", \"router1\", \"emulator1\", \"router2\", \"emulator2\"]\n",
    "for n in node_names:\n",
    "    slice.add_node(name=n, site=site_name, cores=4, ram=32, disk=100, image='default_ubuntu_18')"
   ]
  },
  {
   "cell_type": "markdown",
   "id": "c35e7feb-d969-4107-a41e-ae36e76384b4",
   "metadata": {},
   "source": [
    "Add network interfaces to the nodes:"
   ]
  },
  {
   "cell_type": "code",
   "execution_count": null,
   "id": "424a63fe-b1b7-4cbf-bd93-c5939edadb3d",
   "metadata": {},
   "outputs": [],
   "source": [
    "# to be deleted after fixing the next cell !!!\n",
    "if_c1     =  n_c.add_component(model=\"NIC_Basic\", name=\"if_c1\").get_interfaces()[0]\n",
    "if_c2     =  n_c.add_component(model=\"NIC_Basic\", name=\"if_c2\").get_interfaces()[0]\n",
    "if_s1     =  n_s.add_component(model=\"NIC_Basic\", name=\"if_s1\").get_interfaces()[0]\n",
    "if_s2     =  n_s.add_component(model=\"NIC_Basic\", name=\"if_s2\").get_interfaces()[0]\n",
    "if_e1_l   = n_e1.add_component(model=\"NIC_Basic\", name=\"if_e1_l\").get_interfaces()[0]\n",
    "if_e1_r   = n_e1.add_component(model=\"NIC_Basic\", name=\"if_e1_r\").get_interfaces()[0]\n",
    "if_r1_l   = n_r1.add_component(model=\"NIC_Basic\", name=\"if_r1_l\").get_interfaces()[0]\n",
    "if_r1_r   = n_r1.add_component(model=\"NIC_Basic\", name=\"if_r1_r\").get_interfaces()[0]\n",
    "if_e2_l   = n_e2.add_component(model=\"NIC_Basic\", name=\"if_e2_l\").get_interfaces()[0]\n",
    "if_e2_r   = n_e2.add_component(model=\"NIC_Basic\", name=\"if_e2_r\").get_interfaces()[0]\n",
    "if_r2_l   = n_r2.add_component(model=\"NIC_Basic\", name=\"if_r2_l\").get_interfaces()[0]\n",
    "if_r2_r   = n_r2.add_component(model=\"NIC_Basic\", name=\"if_r2_r\").get_interfaces()[0]"
   ]
  },
  {
   "cell_type": "code",
   "execution_count": null,
   "id": "a01c8299-b5a6-4927-b68b-ee2c4091fc30",
   "metadata": {},
   "outputs": [],
   "source": [
    "# to be fixed: this cell sets up the network links !!! see the hello, fabric instructions https://github.com/teaching-on-testbeds/hello-fabric/blob/main/hello_fabric.ipynb \n",
    "\n",
    "nets = [\n",
    "    {\"name\": \"net1a\",   \"nodes\": [\"romeo\", \"router\"]},\n",
    "    {\"name\": \"net1b\",  \"nodes\": [\"router\", \"juliet\"]}\n",
    "]\n",
    "for n in nets:\n",
    "    ifaces = [slice.get_node(node).add_component(model=\"NIC_Basic\", name=n[\"name\"]).get_interfaces()[0] for node in n['nodes'] ]\n",
    "    slice.add_l2network(name=n[\"name\"], type='L2Bridge', interfaces=ifaces)"
   ]
  },
  {
   "cell_type": "markdown",
   "id": "a36f615e-f780-44aa-a5ef-0f19baf94962",
   "metadata": {},
   "source": [
    "and show them:"
   ]
  },
  {
   "cell_type": "markdown",
   "id": "47e6d5db-1d5b-4d71-85e5-0974c03a1304",
   "metadata": {},
   "source": [
    "add Ethernet networks to the slice:"
   ]
  },
  {
   "cell_type": "code",
   "execution_count": null,
   "id": "0091af01-2da2-4d07-95a0-d9a64a95bcf3",
   "metadata": {},
   "outputs": [],
   "source": [
    "net_1_c_e = slice.add_l2network(name='net_1_c_e', type='L2Bridge', interfaces=[if_c1,    if_e1_l])\n",
    "net_2_c_e = slice.add_l2network(name='net_2_c_e', type='L2Bridge', interfaces=[if_c2,    if_e2_l])\n",
    "net_1_e_r = slice.add_l2network(name='net_1_e_r', type='L2Bridge', interfaces=[if_e1_r,  if_r1_l])\n",
    "net_2_e_r = slice.add_l2network(name='net_2_e_r', type='L2Bridge', interfaces=[if_e2_r,  if_r2_l])\n",
    "net_1_r_s = slice.add_l2network(name='net_1_r_s', type='L2Bridge', interfaces=[if_r1_r,  if_s1])\n",
    "net_2_r_s = slice.add_l2network(name='net_2_r_s', type='L2Bridge', interfaces=[if_r2_r,  if_s2])"
   ]
  },
  {
   "cell_type": "markdown",
   "id": "27e8e42b-bf7a-4498-a26f-2c7c854a5f70",
   "metadata": {},
   "source": [
    "and see them:"
   ]
  },
  {
   "cell_type": "code",
   "execution_count": null,
   "id": "44d759bc-32d6-4897-bbef-fa8480ee67f4",
   "metadata": {},
   "outputs": [],
   "source": [
    "print(f\"{slice.list_interfaces()}\")"
   ]
  },
  {
   "cell_type": "markdown",
   "id": "377e138a-4f24-4e41-a4c2-c4674d62dc9a",
   "metadata": {},
   "source": [
    "Note: Basic NICs may claim 0 bandwidth but are 100 Gbps shared by all Basic\n",
    "NICs on the host."
   ]
  },
  {
   "cell_type": "markdown",
   "id": "15e34a54-d6f5-4028-86de-6b86cf742ea4",
   "metadata": {},
   "source": [
    "Submit slice (reserve resources):\n",
    "\n",
    "Now we are ready to reserve the resources and get the login details.\n",
    "\n",
    "This step will take a little while, as we communicate with FABRIC to\n",
    "reserve our requested resources.\n",
    "\n",
    "-   As it runs, you will see the “State” of each node go from “Ticketed”\n",
    "    to “Active” (and a “Management IP”, which may be IPv4 or IPv6, will\n",
    "    be assigned to each one)\n",
    "-   Then, you’ll wait a few more minutes for some `wait_ssh` and\n",
    "    `post_boot_config` processes to run.\n",
    "-   Next, it will show the MAC address and interface name of each of the\n",
    "    “dataplane” interfaces you set up, as these come up"
   ]
  },
  {
   "cell_type": "code",
   "execution_count": null,
   "id": "5a27ede1-bf36-4793-a535-3e99296cae4c",
   "metadata": {},
   "outputs": [],
   "source": [
    "slice.submit()"
   ]
  },
  {
   "cell_type": "markdown",
   "id": "46bcfd0f-b6e8-4e84-b648-c6721624eae7",
   "metadata": {},
   "source": [
    "Our final slice status should be “StableOK”:"
   ]
  },
  {
   "cell_type": "code",
   "execution_count": null,
   "id": "d16b845c-ecf4-48b8-888b-2c779ac7e8ef",
   "metadata": {},
   "outputs": [],
   "source": [
    "print(f\"{slice}\")"
   ]
  },
  {
   "cell_type": "markdown",
   "id": "aa8f4fbf-ca11-417d-a126-7122baf0bffd",
   "metadata": {},
   "source": [
    "we can block until all hosts are ready to login:"
   ]
  },
  {
   "cell_type": "code",
   "execution_count": null,
   "id": "49112e7e-9717-49b9-943b-c3ddf9b2c49a",
   "metadata": {},
   "outputs": [],
   "source": [
    "slice.wait_ssh(progress=True)"
   ]
  },
  {
   "cell_type": "markdown",
   "id": "e52f9ea0-f1bc-4e06-b89f-eada51ea5648",
   "metadata": {},
   "source": [
    "and we can get login details for every node:"
   ]
  },
  {
   "cell_type": "code",
   "execution_count": null,
   "id": "82a7e02b-ad0c-46f2-b313-a06fe6eca96b",
   "metadata": {},
   "outputs": [],
   "source": [
    "for node in slice.get_nodes():\n",
    "    print(f\"{node}\")"
   ]
  },
  {
   "cell_type": "markdown",
   "id": "39c58eae-f00f-4a93-8079-ae7391a6cd64",
   "metadata": {},
   "source": [
    "Note: you can open a terminal in the Jupyter environment and use these SSH commands there to log in to the nodes. But, add \n",
    "\n",
    "```\n",
    " -F ~/work/fabric_config/ssh_config\n",
    "```\n",
    "\n",
    "to each SSH command."
   ]
  },
  {
   "cell_type": "markdown",
   "id": "bb71725f-1c7b-452c-8f41-5945ddd54a65",
   "metadata": {},
   "source": [
    "Test that resources are available over SSH - should return True:"
   ]
  },
  {
   "cell_type": "code",
   "execution_count": null,
   "id": "942f862a-a88f-435c-9b5a-16d958df63a1",
   "metadata": {},
   "outputs": [],
   "source": [
    "slice.test_ssh()"
   ]
  },
  {
   "cell_type": "markdown",
   "id": "7a552a67-9f94-44e4-894e-dcddf9fabd07",
   "metadata": {},
   "source": [
    "Note: now that the slice is reserved, the variables from the previous section (node and interface variables) are no longer useful. "
   ]
  },
  {
   "cell_type": "markdown",
   "id": "226ee6d5-57b0-4d56-9bc1-e903900a8dcf",
   "metadata": {},
   "source": [
    "### Install MPTCP kernel on client and server"
   ]
  },
  {
   "cell_type": "markdown",
   "id": "042a524d-00f9-4d03-81b3-e05b2d91a868",
   "metadata": {},
   "source": [
    "First, we download the packages to the Jupyter workspace (the nodes cannot retrieve them directly from Github because of [the IPv6 issue](https://learn.fabric-testbed.net/knowledge-base/using-ipv4-only-resources-like-github-or-docker-hub-from-ipv6-fabric-sites/).) "
   ]
  },
  {
   "cell_type": "code",
   "execution_count": null,
   "id": "f0fd9b0d-eb4d-4eb6-ac2b-be34d67535e9",
   "metadata": {
    "tags": []
   },
   "outputs": [],
   "source": [
    "!wget https://github.com/multipath-tcp/mptcp/releases/download/v0.95.2/linux-headers-4.19.234.mptcp_20220311125841-1_amd64.deb -O /tmp/linux-headers-4.19.234.mptcp_20220311125841-1_amd64.deb\n",
    "!wget https://github.com/multipath-tcp/mptcp/releases/download/v0.95.2/linux-image-4.19.234.mptcp_20220311125841-1_amd64.deb -O /tmp/linux-image-4.19.234.mptcp_20220311125841-1_amd64.deb\n",
    "!wget https://github.com/multipath-tcp/mptcp/releases/download/v0.95.2/linux-libc-dev_20220311125841-1_amd64.deb -O /tmp/linux-libc-dev_20220311125841-1_amd64.deb\n",
    "!wget https://github.com/multipath-tcp/mptcp/releases/download/v0.95.2/linux-mptcp_v0.95.2_20220311125841-1_all.deb -O /tmp/linux-mptcp_v0.95.2_20220311125841-1_all.deb"
   ]
  },
  {
   "cell_type": "markdown",
   "id": "64db3069-265c-46eb-b8b7-c35adf0c8494",
   "metadata": {},
   "source": [
    "Then we transfer over to the hosts and install."
   ]
  },
  {
   "cell_type": "code",
   "execution_count": null,
   "id": "9bf72f61-edf9-45ec-be62-b72f91b26b24",
   "metadata": {},
   "outputs": [],
   "source": [
    "for node_name in [\"client\", \"server\"]:\n",
    "    slice.get_node(name=node_name).upload_file('/tmp/linux-headers-4.19.234.mptcp_20220311125841-1_amd64.deb', '/home/ubuntu/linux-headers-4.19.234.mptcp_20220311125841-1_amd64.deb')\n",
    "    slice.get_node(name=node_name).upload_file('/tmp/linux-image-4.19.234.mptcp_20220311125841-1_amd64.deb',   '/home/ubuntu/linux-image-4.19.234.mptcp_20220311125841-1_amd64.deb')\n",
    "    slice.get_node(name=node_name).upload_file('/tmp/linux-libc-dev_20220311125841-1_amd64.deb',               '/home/ubuntu/linux-libc-dev_20220311125841-1_amd64.deb')\n",
    "    slice.get_node(name=node_name).upload_file('/tmp/linux-mptcp_v0.95.2_20220311125841-1_all.deb',            '/home/ubuntu/linux-mptcp_v0.95.2_20220311125841-1_all.deb')\n",
    "    slice.get_node(name=node_name).execute(\"sudo dpkg -i linux*.deb\")\n",
    "    slice.get_node(name=node_name).execute(\"sudo apt-get install -f\")"
   ]
  },
  {
   "cell_type": "markdown",
   "id": "9adc72c3-27e9-4f4d-afa9-3091557e477c",
   "metadata": {},
   "source": [
    "Restart the nodes:"
   ]
  },
  {
   "cell_type": "code",
   "execution_count": null,
   "id": "b10b0a38-57e7-4f7a-b0ef-33ed91d98381",
   "metadata": {},
   "outputs": [],
   "source": [
    "for node_name in [\"client\", \"server\"]:\n",
    "    slice.get_node(name=node_name).execute(\"sudo reboot\")"
   ]
  },
  {
   "cell_type": "markdown",
   "id": "17013f0f-23fe-4d58-a269-3a1e6773d918",
   "metadata": {},
   "source": [
    "and wait for them to come up again:"
   ]
  },
  {
   "cell_type": "code",
   "execution_count": null,
   "id": "baaa9892-739b-4677-adc5-aac921a8a002",
   "metadata": {},
   "outputs": [],
   "source": [
    "slice.wait_ssh(progress=True)"
   ]
  },
  {
   "cell_type": "markdown",
   "id": "2125f249-b029-4838-a3f9-059863b808e4",
   "metadata": {},
   "source": [
    "Check that MPTCP kernel is loaded (`4.19.X.mptcp`):"
   ]
  },
  {
   "cell_type": "code",
   "execution_count": null,
   "id": "7ad1244f-361c-4908-83e9-66ae123737df",
   "metadata": {},
   "outputs": [],
   "source": [
    "for node_name in [\"client\", \"server\"]:\n",
    "    output = slice.get_node(name=node_name).execute(\"uname -r\")[0].strip()\n",
    "    print(f\"Kernel on {node_name}: {output}\")\n",
    "    \n",
    "    if \"mptcp\" not in output: # halt notebook execution if kernel is not installed!\n",
    "        raise Exception (\"No MPTCP kernel on %s\" % node_name)"
   ]
  },
  {
   "cell_type": "markdown",
   "id": "3331916d-12b4-44d2-bb17-52157f3e808a",
   "metadata": {},
   "source": [
    "### Configure network "
   ]
  },
  {
   "cell_type": "markdown",
   "id": "b96eaf62-f6f1-4a71-9681-752ba62d0347",
   "metadata": {},
   "source": [
    "Now we can configure IP addresses on every network interface:"
   ]
  },
  {
   "cell_type": "code",
   "execution_count": null,
   "id": "516bddff-d8af-4526-bf63-4e16ebcd9dd3",
   "metadata": {},
   "outputs": [],
   "source": [
    "print(f\"{slice.list_interfaces()}\")"
   ]
  },
  {
   "cell_type": "code",
   "execution_count": null,
   "id": "cd882f27-1dc8-43aa-85ad-9777a1e36b35",
   "metadata": {},
   "outputs": [],
   "source": [
    "from ipaddress import ip_address, IPv4Address, IPv6Address, IPv4Network, IPv6Network\n",
    "\n",
    "slice.get_node(name='client').ip_addr_add(addr=\"192.168.10.2\", subnet=IPv4Network(\"192.168.10.0/24\"), interface=slice.get_interface(name=\"client-if_c1-p1\"))\n",
    "slice.get_node(name='client').ip_addr_add(addr=\"192.168.20.2\", subnet=IPv4Network(\"192.168.20.0/24\"), interface=slice.get_interface(name=\"client-if_c2-p1\"))\n",
    "                                          \n",
    "slice.get_node(name='server').ip_addr_add(addr=\"192.168.3.1\", subnet=IPv4Network(\"192.168.3.0/24\"), interface=slice.get_interface(name=\"server-if_s1-p1\"))\n",
    "slice.get_node(name='server').ip_addr_add(addr=\"192.168.4.1\", subnet=IPv4Network(\"192.168.4.0/24\"), interface=slice.get_interface(name=\"server-if_s2-p1\"))\n",
    "\n",
    "slice.get_node(name='router1').ip_addr_add(addr=\"192.168.1.2\", subnet=IPv4Network(\"192.168.1.0/24\"), interface=slice.get_interface(name=\"router1-if_r1_l-p1\"))\n",
    "slice.get_node(name='router1').ip_addr_add(addr=\"192.168.3.2\", subnet=IPv4Network(\"192.168.3.0/24\"), interface=slice.get_interface(name=\"router1-if_r1_r-p1\"))\n",
    "                                          \n",
    "slice.get_node(name='emulator1').ip_addr_add(addr=\"192.168.10.1\", subnet=IPv4Network(\"192.168.10.0/24\"), interface=slice.get_interface(name=\"emulator1-if_e1_l-p1\"))\n",
    "slice.get_node(name='emulator1').ip_addr_add(addr=\"192.168.1.1\",  subnet=IPv4Network(\"192.168.1.0/24\"),  interface=slice.get_interface(name=\"emulator1-if_e1_r-p1\"))\n",
    "\n",
    "slice.get_node(name='router2').ip_addr_add(addr=\"192.168.2.2\", subnet=IPv4Network(\"192.168.2.0/24\"), interface=slice.get_interface(name=\"router2-if_r2_l-p1\"))\n",
    "slice.get_node(name='router2').ip_addr_add(addr=\"192.168.4.2\", subnet=IPv4Network(\"192.168.4.0/24\"), interface=slice.get_interface(name=\"router2-if_r2_r-p1\"))\n",
    "                                           \n",
    "slice.get_node(name='emulator2').ip_addr_add(addr=\"192.168.20.1\", subnet=IPv4Network(\"192.168.20.0/24\"), interface=slice.get_interface(name=\"emulator2-if_e2_l-p1\"))\n",
    "slice.get_node(name='emulator2').ip_addr_add(addr=\"192.168.2.1\",  subnet=IPv4Network(\"192.168.2.0/24\"),  interface=slice.get_interface(name=\"emulator2-if_e2_r-p1\"))"
   ]
  },
  {
   "cell_type": "markdown",
   "id": "f96bbcbc-2e1f-4cb7-af10-da1fd88e153a",
   "metadata": {
    "tags": []
   },
   "source": [
    "## Set up multipath networking"
   ]
  },
  {
   "cell_type": "markdown",
   "id": "69cc0b13-af51-4f47-a8ca-8d579b4459cc",
   "metadata": {},
   "source": [
    "### Client and server"
   ]
  },
  {
   "cell_type": "markdown",
   "id": "110a17c9-00a1-43ec-9957-50ea7e776e02",
   "metadata": {},
   "source": [
    "Download and install `iproute-mptcp` on client and server:\n"
   ]
  },
  {
   "cell_type": "code",
   "execution_count": null,
   "id": "adca6966-ac3b-4b94-8a9b-fc4b5db515fa",
   "metadata": {},
   "outputs": [],
   "source": [
    "!git clone https://github.com/multipath-tcp/iproute-mptcp.git"
   ]
  },
  {
   "cell_type": "code",
   "execution_count": null,
   "id": "fa5e69f5-a52c-4ff5-9d35-b220e3fe544d",
   "metadata": {},
   "outputs": [],
   "source": [
    "for node_name in [\"client\", \"server\"]:\n",
    "    slice.get_node(name=node_name).upload_directory('iproute-mptcp', '/home/ubuntu/')\n",
    "    slice.get_node(name=node_name).execute(\"cd /home/ubuntu/iproute-mptcp; sudo make; sudo make install\")"
   ]
  },
  {
   "cell_type": "markdown",
   "id": "b1ec6bf3-77ae-47ce-8e3e-6dc9bed30079",
   "metadata": {},
   "source": [
    "Install some other utility software on client and server:"
   ]
  },
  {
   "cell_type": "code",
   "execution_count": null,
   "id": "24dfcd98-11df-4000-9f55-9c48ee2fa256",
   "metadata": {},
   "outputs": [],
   "source": [
    "for node_name in [\"client\", \"server\"]:\n",
    "    slice.get_node(name=node_name).execute(\"sudo apt update; sudo apt -y install iperf3 net-tools moreutils\")"
   ]
  },
  {
   "cell_type": "markdown",
   "id": "270dc1a1-2e1a-47f2-aa54-059e3e2a3ecc",
   "metadata": {},
   "source": [
    "Enable multipath kernel modules on client and server:"
   ]
  },
  {
   "cell_type": "code",
   "execution_count": null,
   "id": "a3606aa4-7f65-4fe0-a8d2-a273ad886544",
   "metadata": {},
   "outputs": [],
   "source": [
    "cmds = \"\"\"\n",
    "# run sysctl commands to enable mptcp\n",
    "sudo sysctl -w net.mptcp.mptcp_enabled=1 \n",
    "sudo sysctl -w net.mptcp.mptcp_checksum=0\n",
    "\n",
    "# load and configure mptcp congestion control algorithms\n",
    "sudo modprobe mptcp_balia \n",
    "sudo modprobe mptcp_coupled \n",
    "sudo modprobe mptcp_olia \n",
    "sudo modprobe mptcp_wvegas\n",
    "\n",
    "# configure mptcp congestion control algorithm to one\n",
    "sudo sysctl -w net.ipv4.tcp_congestion_control=balia\n",
    "\"\"\"\n",
    "for node_name in [\"client\", \"server\"]:\n",
    "    slice.get_node(name=node_name).execute(cmds)"
   ]
  },
  {
   "cell_type": "markdown",
   "id": "976557b0-f130-462a-aac9-f8bac9d6201a",
   "metadata": {},
   "source": [
    "Bring up interfaces and add routes on client:"
   ]
  },
  {
   "cell_type": "code",
   "execution_count": null,
   "id": "fe58806e-4d24-47ce-ace1-3fd1e2d38fcc",
   "metadata": {
    "tags": []
   },
   "outputs": [],
   "source": [
    "for iface in slice.get_node(name=\"client\").get_interfaces():\n",
    "    iface.ip_link_up()\n",
    "slice.get_node(name=\"client\").ip_route_add(subnet=IPv4Network(\"192.168.3.0/24\"), gateway=\"192.168.10.1\")\n",
    "slice.get_node(name=\"client\").ip_route_add(subnet=IPv4Network(\"192.168.4.0/24\"), gateway=\"192.168.20.1\")"
   ]
  },
  {
   "cell_type": "markdown",
   "id": "1b76b3bc-7217-48f9-8ca0-22a0a5e859b5",
   "metadata": {},
   "source": [
    "Enable MPTCP in the experiment interfaces on client:"
   ]
  },
  {
   "cell_type": "code",
   "execution_count": null,
   "id": "e52e8def-c235-4a68-8754-71fbbcb7f4c0",
   "metadata": {},
   "outputs": [],
   "source": [
    "for iface in slice.get_node(name=\"client\").get_interfaces():\n",
    "    slice.get_node(name=\"client\").execute(\"sudo ip link set dev \" + iface.get_os_interface() + \" multipath on\")"
   ]
  },
  {
   "cell_type": "markdown",
   "id": "2389df56-7a3f-49d2-896a-c6638aa075b7",
   "metadata": {},
   "source": [
    "and disable on the control interface:\n",
    "\n",
    "(note: currently broken, see https://learn.fabric-testbed.net/forums/topic/error-on-get_management_os_interface/\n",
    "but it doesn't seem to matter)"
   ]
  },
  {
   "cell_type": "code",
   "execution_count": null,
   "id": "d54b1b4a-67c9-40df-b748-087a3245e9f9",
   "metadata": {},
   "outputs": [],
   "source": [
    "control_iface = slice.get_node(name=\"client\").get_management_os_interface()\n",
    "slice.get_node(name=\"client\").execute(\"sudo ip link set dev \" + control_iface + \" multipath off\")"
   ]
  },
  {
   "cell_type": "markdown",
   "id": "3d5b5a5b-9ce1-46b9-89db-5ea7618a6777",
   "metadata": {},
   "source": [
    "Now, add MP routes on client:"
   ]
  },
  {
   "cell_type": "code",
   "execution_count": null,
   "id": "2abf8e78-e716-4914-a93c-72196de172b9",
   "metadata": {},
   "outputs": [],
   "source": [
    "cmds = \"\"\"\n",
    "iface1=$(ifconfig | grep -B1 'inet 192.168.10.2' | head -n1 | cut -f1 -d:)\n",
    "iface2=$(ifconfig | grep -B1 'inet 192.168.20.2' | head -n1 | cut -f1 -d:)\n",
    "\n",
    "sudo ip rule add from 192.168.10.2 table 1 \n",
    "sudo ip rule add from 192.168.20.2 table 2 \n",
    "sudo ip route add 192.168.10.0/24 dev $iface1 scope link table 1\n",
    "sudo ip route add 192.168.20.0/24 dev $iface2 scope link table 2 \n",
    "sudo ip route add 192.168.3.0/24 via 192.168.10.1 dev $iface1 table 1 \n",
    "sudo ip route add 192.168.4.0/24 via 192.168.20.1 dev $iface2 table 2\n",
    "\"\"\"\n",
    "slice.get_node(name=\"client\").execute(cmds)"
   ]
  },
  {
   "cell_type": "markdown",
   "id": "e1b9d795-4cce-4bbc-854a-f4d39fa1aacb",
   "metadata": {},
   "source": [
    "Check configuration on client:"
   ]
  },
  {
   "cell_type": "code",
   "execution_count": null,
   "id": "c6ff6417-e3c4-4a7b-b9a8-604ab00cdef1",
   "metadata": {},
   "outputs": [],
   "source": [
    "client_ip_ad = slice.get_node(name=\"client\").execute('ip addr')\n",
    "client_ip_rt = slice.get_node(name=\"client\").execute('ip route')\n",
    "client_ip_r1 = slice.get_node(name=\"client\").execute('ip route show table 1')\n",
    "client_ip_r2 = slice.get_node(name=\"client\").execute('ip route show table 2')\n",
    "for output in [client_ip_ad, client_ip_rt, client_ip_r1, client_ip_r2]:\n",
    "    print(*output, sep='\\n')"
   ]
  },
  {
   "cell_type": "markdown",
   "id": "0e1952bd-f2fd-4cf4-8dc3-59d91a00036c",
   "metadata": {},
   "source": [
    "Bring up interfaces and add routes on server:"
   ]
  },
  {
   "cell_type": "code",
   "execution_count": null,
   "id": "0a100092-6078-44b3-abd9-9878c2574669",
   "metadata": {
    "tags": []
   },
   "outputs": [],
   "source": [
    "for iface in slice.get_node(name=\"server\").get_interfaces():\n",
    "    iface.ip_link_up()\n",
    "slice.get_node(name=\"server\").ip_route_add(subnet=IPv4Network(\"192.168.10.0/24\"), gateway=\"192.168.3.2\")\n",
    "slice.get_node(name=\"server\").ip_route_add(subnet=IPv4Network(\"192.168.20.0/24\"), gateway=\"192.168.4.2\")"
   ]
  },
  {
   "cell_type": "markdown",
   "id": "15691e43-02d9-4be2-874c-cdab039636f0",
   "metadata": {},
   "source": [
    "Check configuration on server:"
   ]
  },
  {
   "cell_type": "code",
   "execution_count": null,
   "id": "785c49ad-b7c8-452d-aac5-445e85f229d0",
   "metadata": {},
   "outputs": [],
   "source": [
    "server_ip_ad = slice.get_node(name=\"server\").execute('ip addr')\n",
    "server_ip_rt = slice.get_node(name=\"server\").execute('ip route')\n",
    "print(*server_ip_ad, sep='\\n')\n",
    "print(*server_ip_rt, sep='\\n')"
   ]
  },
  {
   "cell_type": "markdown",
   "id": "619a961b-f951-4642-8364-2b79575d156f",
   "metadata": {},
   "source": [
    "### Gateways"
   ]
  },
  {
   "cell_type": "markdown",
   "id": "abe8851a-bf7a-4fb2-afe9-716070a033e9",
   "metadata": {},
   "source": [
    "Bring up links:"
   ]
  },
  {
   "cell_type": "code",
   "execution_count": null,
   "id": "e2b0afbe-47fe-40d6-9a1d-c8958c6cff76",
   "metadata": {},
   "outputs": [],
   "source": [
    "for node_name in [\"emulator1\", \"emulator2\", \"router1\", \"router2\"]:\n",
    "    for iface in slice.get_node(name=node_name).get_interfaces():\n",
    "        iface.ip_link_up()"
   ]
  },
  {
   "cell_type": "markdown",
   "id": "9192af14-6973-4678-a71a-7e11d29fc8a0",
   "metadata": {},
   "source": [
    "Enable IP forwarding:"
   ]
  },
  {
   "cell_type": "code",
   "execution_count": null,
   "id": "9df0eacf-2463-478f-b731-ddb5450ee2c6",
   "metadata": {},
   "outputs": [],
   "source": [
    "for node_name in [\"emulator1\", \"emulator2\", \"router1\", \"router2\"]:\n",
    "    slice.get_node(name=node_name).execute(\"sudo sysctl -w net.ipv4.ip_forward=1\")"
   ]
  },
  {
   "cell_type": "markdown",
   "id": "1480f9b6-6f2d-47a6-8bac-ef5579b22ca6",
   "metadata": {},
   "source": [
    "Add some routes throughout the network:"
   ]
  },
  {
   "cell_type": "code",
   "execution_count": null,
   "id": "e5f36ff1-f2fb-4faf-83f4-39fa782e5e6c",
   "metadata": {},
   "outputs": [],
   "source": [
    "slice.get_node(name=\"emulator1\").ip_route_add(subnet=IPv4Network(\"192.168.3.0/24\"), gateway=\"192.168.1.2\")\n",
    "slice.get_node(name=\"emulator2\").ip_route_add(subnet=IPv4Network(\"192.168.4.0/24\"), gateway=\"192.168.2.2\")\n",
    "slice.get_node(name=\"router1\").ip_route_add(subnet=IPv4Network(\"192.168.10.0/24\"), gateway=\"192.168.1.1\")\n",
    "slice.get_node(name=\"router2\").ip_route_add(subnet=IPv4Network(\"192.168.20.0/24\"), gateway=\"192.168.2.1\")"
   ]
  },
  {
   "cell_type": "markdown",
   "id": "0485582e-4a49-49bb-aef2-c512a08305af",
   "metadata": {},
   "source": [
    "Add delay at emulator nodes on the \"right\" side of the network:"
   ]
  },
  {
   "cell_type": "code",
   "execution_count": null,
   "id": "5a60d360-2423-467c-ba2e-520e36e0be83",
   "metadata": {},
   "outputs": [],
   "source": [
    "em_iface_r = slice.get_node(name=\"emulator1\").get_interface(name=\"emulator1-if_e1_r-p1\").get_os_interface()\n",
    "slice.get_node(name=\"emulator1\").execute('sudo tc qdisc replace dev ' + em_iface_r + ' root netem delay 30ms limit 60000')\n",
    "em_iface_r = slice.get_node(name=\"emulator2\").get_interface(name=\"emulator2-if_e2_r-p1\").get_os_interface()\n",
    "slice.get_node(name=\"emulator2\").execute('sudo tc qdisc replace dev ' + em_iface_r + ' root netem delay 30ms limit 60000')"
   ]
  },
  {
   "cell_type": "markdown",
   "id": "6b99ccea-4241-46a1-a992-84703a32de0a",
   "metadata": {},
   "source": [
    "Add capacity limit on the router nodes on the \"right\" side of the network\""
   ]
  },
  {
   "cell_type": "code",
   "execution_count": null,
   "id": "338bb263-0ba0-4edf-9599-2da1f5b95c0c",
   "metadata": {},
   "outputs": [],
   "source": [
    "cmds = \"\"\"\n",
    "sudo tc qdisc del dev IFACE root # don’t worry if you get RTNETLINK  error\n",
    "sudo tc qdisc replace dev IFACE root handle 1: htb default 3 \n",
    "sudo tc class add dev IFACE parent 1: classid 1:3 htb rate 100mbit \n",
    "sudo tc qdisc add dev IFACE parent 1:3 handle 3: bfifo limit 375000 \n",
    "\"\"\"\n",
    "\n",
    "rt_iface_r = slice.get_node(name=\"router1\").get_interface(name=\"router1-if_r1_r-p1\").get_os_interface()\n",
    "slice.get_node(name=\"router1\").execute(cmds.replace(\"IFACE\", rt_iface_r))\n",
    "rt_iface_r = slice.get_node(name=\"router2\").get_interface(name=\"router2-if_r2_r-p1\").get_os_interface()\n",
    "slice.get_node(name=\"router2\").execute(cmds.replace(\"IFACE\", rt_iface_r))"
   ]
  },
  {
   "cell_type": "markdown",
   "id": "e0cb1752-3b01-46f6-88cc-74ee09f8b36f",
   "metadata": {},
   "source": [
    "View all the routes:"
   ]
  },
  {
   "cell_type": "code",
   "execution_count": null,
   "id": "6e4e5d20-1979-4919-b3c4-bac7e92fe9a0",
   "metadata": {},
   "outputs": [],
   "source": [
    "for node_name in [\"client\", \"server\", \"emulator1\", \"emulator2\", \"router1\", \"router2\"]: \n",
    "    ip_rt = slice.get_node(name=node_name).execute('ip route')\n",
    "    print(\"Routes at \" + node_name + \":\")\n",
    "    print(*ip_rt, sep='\\n')"
   ]
  },
  {
   "cell_type": "markdown",
   "id": "9be0a012-fd6f-4918-9211-7b4a48d69c61",
   "metadata": {},
   "source": [
    "### Test multipath configuration"
   ]
  },
  {
   "cell_type": "markdown",
   "id": "fcbce3e8-f899-45b9-bb27-c66836b0d0c8",
   "metadata": {},
   "source": [
    "Start an iperf3 server on the server node (in daemon mode -D option, so this command won't block).\n",
    "Then start an iperf3 client on the client node."
   ]
  },
  {
   "cell_type": "code",
   "execution_count": null,
   "id": "203ae8da-b00d-4abf-94ad-33b508d654e8",
   "metadata": {},
   "outputs": [],
   "source": [
    "slice.get_node(name=\"server\").execute(\"iperf3 -s -1 -D\")"
   ]
  },
  {
   "cell_type": "code",
   "execution_count": null,
   "id": "d00ad0e7-fa4e-45ff-830a-fe55d514ddeb",
   "metadata": {},
   "outputs": [],
   "source": [
    "iperf_out = slice.get_node(name=\"client\").execute(\"iperf3 -f m -c 192.168.3.1 -C 'balia' -P 1 -t 20\")\n",
    "print(*iperf_out, sep='\\n')"
   ]
  },
  {
   "cell_type": "markdown",
   "id": "ce1b28ef-e0f5-443e-81d1-dc8227835692",
   "metadata": {},
   "source": [
    "Confirm that you get about 200 Mbps throughput."
   ]
  },
  {
   "cell_type": "markdown",
   "id": "ae3f77ad-e5e8-4bd0-bad9-848bd6c3e37c",
   "metadata": {},
   "source": [
    "## Renew your slice lease if needed"
   ]
  },
  {
   "cell_type": "code",
   "execution_count": null,
   "id": "6e8a9347-4b05-4b23-85a4-3b3cdf748942",
   "metadata": {},
   "outputs": [],
   "source": [
    "import datetime\n",
    "from datetime import timedelta\n",
    "\n",
    "now = datetime.datetime.now(datetime.timezone.utc)\n",
    "end_date = (now + timedelta(days=10)).strftime(\"%Y-%m-%d %H:%M:%S %z\")\n",
    "slice.renew(end_date)"
   ]
  },
  {
   "cell_type": "markdown",
   "id": "b0196b9c-46d4-45c8-80a2-f627c3c5b537",
   "metadata": {},
   "source": [
    "See the lease end date which may not print most up to date value here. You can also confirm the lease end date from fabrib web interface."
   ]
  },
  {
   "cell_type": "code",
   "execution_count": null,
   "id": "27c26530-91ec-4431-befa-7ab90575b8c2",
   "metadata": {},
   "outputs": [],
   "source": [
    "print(f\"{slice}\")"
   ]
  },
  {
   "cell_type": "markdown",
   "id": "47e99c4e-cd1d-40ff-a7d5-e8d8487bb4c8",
   "metadata": {
    "tags": []
   },
   "source": [
    "## Run Experiment: Bulk Transfer"
   ]
  },
  {
   "cell_type": "markdown",
   "id": "03bb027d-3cd1-4c0e-9f02-e67cdddc00f9",
   "metadata": {},
   "source": [
    "### Set up experiment"
   ]
  },
  {
   "cell_type": "markdown",
   "id": "ee90f77a-b840-49ef-9cd3-550a56cdfd55",
   "metadata": {},
   "source": [
    "Select Congestion Control algorithm in client and server"
   ]
  },
  {
   "cell_type": "code",
   "execution_count": null,
   "id": "1289ceb7-84e8-4a67-b9fc-05d2c5ccd0d7",
   "metadata": {},
   "outputs": [],
   "source": [
    "#ccAlgos=[\"balia\", \"coupled\", \"olia\", \"wvegas\"] # we can experiment with other CC algos later\n",
    "ccAlgo=\"balia\"\n",
    "slice.get_node(name=\"client\").execute(\"sudo sysctl -w net.mptcp.mptcp_enabled=1\")\n",
    "slice.get_node(name=\"server\").execute(\"sudo sysctl -w net.mptcp.mptcp_enabled=1\")\n",
    "slice.get_node(name=\"client\").execute(\"sudo sysctl -w net.ipv4.tcp_congestion_control=\" + ccAlgo)\n",
    "slice.get_node(name=\"server\").execute(\"sudo sysctl -w net.ipv4.tcp_congestion_control=\" + ccAlgo)"
   ]
  },
  {
   "cell_type": "markdown",
   "id": "ed56246d-c330-4d0f-a253-7bb98cae5918",
   "metadata": {
    "tags": []
   },
   "source": [
    "Copy Scripts and Trace files to router1 and router2"
   ]
  },
  {
   "cell_type": "code",
   "execution_count": null,
   "id": "07c4e0c8-d118-4121-8888-27b1a6d57f64",
   "metadata": {},
   "outputs": [],
   "source": [
    "MPTracesRootFolder=os.environ['HOME'] + \"/work/MP-Traces\"\n",
    "nodeHomeFolder=\"/home/ubuntu\""
   ]
  },
  {
   "cell_type": "code",
   "execution_count": null,
   "id": "3efb4077-c671-4f40-adfc-2822e16cf3bf",
   "metadata": {},
   "outputs": [],
   "source": [
    "for node_name in [\"router1\", \"router2\"]:\n",
    "    slice.get_node(name=node_name).upload_directory(MPTracesRootFolder + \"/Scripts\", nodeHomeFolder)\n",
    "    slice.get_node(name=node_name).upload_directory(MPTracesRootFolder + \"/Traces\", nodeHomeFolder)    "
   ]
  },
  {
   "cell_type": "markdown",
   "id": "d3e6246e-970b-45e6-be32-85dcc862e64f",
   "metadata": {},
   "source": [
    "### Execute experiment"
   ]
  },
  {
   "cell_type": "markdown",
   "id": "b09b3abb-2d38-40d1-a555-cecf7998454f",
   "metadata": {},
   "source": [
    "#### Bulk transfer (using mptcp trace pair, memoryless random process, and static process)"
   ]
  },
  {
   "cell_type": "code",
   "execution_count": null,
   "id": "8204a1ca-20bb-4b95-b576-930cd7bead4b",
   "metadata": {},
   "outputs": [],
   "source": [
    "# get the current time, to use when naming the directory to hold results/outputs of the experiment\n",
    "import datetime\n",
    "from datetime import timedelta\n",
    "\n",
    " \n",
    "print(\"starting a new Bulk Transfer experiment set...\")\n",
    "\n",
    "now = datetime.datetime.now(datetime.timezone.utc)\n",
    "outputDir=\"RawResults_\" + now.strftime(\"%Y_%m_%d_%H_%M_%S\")\n",
    "print(\"creating outputDir \" + outputDir)\n",
    "slice.get_node(name=\"client\").execute(\"mkdir -p \" + outputDir) \n",
    "\n",
    "# select path and trial\n",
    "# positive correlation between cellular and wifi paths: Pearson R  of 0.19499423234541421\n",
    "path=\"7\" \n",
    "trial=\"1\"\n",
    "meanRateWifi=24.36 # Mbps, mean and stddev of path 7 real measurements as read from multipath.ipyb script\n",
    "stdDevWifi=17.95\n",
    "meanRateCellular=48.02 # Mbps\n",
    "stdDevCellular=16.19\n",
    "# negative correlation between cellular and wifi paths: Pearson R of -0.24126157391622494\n",
    "# path= \"8\"\n",
    "# trial=\"3\"\n",
    "# meanRateWifi=25.44 # Mbps,  mean and stddev of path 8 real measurements as read from multipath.ipyb script\n",
    "# stdDevWifi=22.57\n",
    "# meanRateCellular=43.07 # Mbps\n",
    "# stdDevCellular=14.03\n",
    "\n",
    "# get the trace pair file names to feed into the routers\n",
    "wifiTraceFile=nodeHomeFolder + \"/Traces/\" + path + \"_\" + trial + \"_wifi.csv\"  \n",
    "cellularTraceFile=nodeHomeFolder + \"/Traces/\"+ path + \"_\" + trial + \"_cellular.csv\" \n",
    "print(\"\\twith trace files: \" + cellularTraceFile + \"  \" + wifiTraceFile + \"  \")\n"
   ]
  },
  {
   "cell_type": "code",
   "execution_count": null,
   "id": "113f2c3c-4f3d-463a-9750-b63917b7b544",
   "metadata": {
    "scrolled": true,
    "tags": []
   },
   "outputs": [],
   "source": [
    "for expType in [\"ST\"]: #TP: using trace pairs at the routers, MR: memoryless random rates at the routers, ST: static (use stdDev as 0)\n",
    "    print(\"running experiment Type: \" + expType)\n",
    "    for expNo in [\"1\",\"2\",\"3\",\"4\",\"5\"]: \n",
    "        print(\"\\t____running experiment No \" + expNo + \"____\" )\n",
    "        outputFileName=outputDir + \"/\" + \"type\"+ expType + \"_CC\" + ccAlgo + \"_exp\" + expNo + \"_path\" + path + \"_trial\" + trial\n",
    "        print(\"\\toutput file: \" + outputFileName)\n",
    "        if (expType == \"TP\"):\n",
    "            # start scripts in router1 and router2 (in non-blocking way using *at* command) \n",
    "            # so the bandwidths at the routers are regulated based on the collected\n",
    "            # trace pairs (wifi trace on router 1 and cellular trace in router2, respectively)\n",
    "            # important note: make sure to run the script with /bin/bash to make it work with at command\n",
    "            router1Cmd=\"echo /bin/bash \" + nodeHomeFolder + \"/Scripts/tputVary.sh \" + wifiTraceFile + \" | at now\"\n",
    "            router2Cmd=\"echo /bin/bash \" + nodeHomeFolder + \"/Scripts/tputVary.sh \"+ cellularTraceFile +\" | at now\"\n",
    "        elif (expType == \"MR\"):\n",
    "            # start scripts in router1 and router2 (in non-blocking way using *at* command)                         \n",
    "            # important note: make sure to run the script with /bin/bash to make it work with at command\n",
    "            router1Cmd=\"echo /bin/bash \" + nodeHomeFolder + \"/Scripts/tputVaryRandom.sh \" + str(meanRateWifi) + \" \" + str(stdDevWifi) + \"| at now\"\n",
    "            router2Cmd=\"echo /bin/bash \" + nodeHomeFolder + \"/Scripts/tputVaryRandom.sh \"+ str(meanRateCellular) + \" \" + str(stdDevCellular) + \"| at now\"\n",
    "        elif (expType == \"ST\"): \n",
    "            # start scripts in router1 and router2 (in non-blocking way using *at* command)                         \n",
    "            # important note: make sure to run the script with /bin/bash to make it work with at command\n",
    "            router1Cmd=\"echo /bin/bash \" + nodeHomeFolder + \"/Scripts/tputVaryRandom.sh \" + str(meanRateWifi) + \" \" + \" 0 | at now\"\n",
    "            router2Cmd=\"echo /bin/bash \" + nodeHomeFolder + \"/Scripts/tputVaryRandom.sh \"+ str(meanRateCellular) + \" \" +  \" 0 | at now\"\n",
    "        else:   \n",
    "            print(\"\\tError: Wrong expType!\")\n",
    "            break\n",
    "        print(\"\\texecuting router commands: \" + router1Cmd + \" \" + router2Cmd)\n",
    "        slice.get_node(name=\"router1\").execute(router1Cmd)\n",
    "        slice.get_node(name=\"router2\").execute(router2Cmd)\n",
    "\n",
    "        print(\"\\trunning the iperf at the server...\")\n",
    "        slice.get_node(name=\"server\").execute('iperf3 -s -i 0.1 -D -1') # run as daemon and stop after 1 client connection\n",
    "\n",
    "        clientCmd=\"iperf3 -f m -c 192.168.3.1 -C '\" + ccAlgo + \"' -P 1 -i 1 -t 95\" + \" > \" + outputFileName \n",
    "        print(\"\\tclient iperf command: \" + clientCmd)\n",
    "        print(\"\\trunning iperf at the client...\") \n",
    "        slice.get_node(name=\"client\").execute(clientCmd)\n",
    "        #iperf_out = slice.get_node(name=\"client\").execute(clientCmd)\n",
    "        #print(*iperf_out, sep='\\n')\n",
    "\n",
    "        print(\"\\tkilling the trace pair feeding scripts at both the routers to end this experiment...\")        \n",
    "        killCmd=\"kill -9 $(ps -ef | grep -i tput | awk '{print $2}')\"\n",
    "        slice.get_node(name=\"router1\").execute(killCmd)\n",
    "        slice.get_node(name=\"router2\").execute(killCmd)\n",
    "        \n",
    "print(\"finished running Bulk Transfer experiments above.\")       "
   ]
  },
  {
   "cell_type": "markdown",
   "id": "6ccc57f4-9920-4716-af0a-52d7da28aa80",
   "metadata": {
    "tags": []
   },
   "source": [
    "### Retrieve data from experiment"
   ]
  },
  {
   "cell_type": "code",
   "execution_count": null,
   "id": "d7129f1c-4e0e-49dc-b333-e3f9c80681d5",
   "metadata": {},
   "outputs": [],
   "source": [
    "slice.get_node(name=\"client\").download_directory('/home/fabric/work/' ,  outputDir )"
   ]
  },
  {
   "cell_type": "markdown",
   "id": "6cb56fe5-c8ff-46d7-96fb-e75d99c4b085",
   "metadata": {
    "tags": []
   },
   "source": [
    "## Data analysis experiment: Bulk Transfer"
   ]
  },
  {
   "cell_type": "code",
   "execution_count": null,
   "id": "eb6c8978-e616-42cb-8eee-3741f5133150",
   "metadata": {},
   "outputs": [],
   "source": [
    "# to do 11/17/2022: create a table\n",
    "# path, trial, TPmeanData, TPstdErr, MRmeanData, MRstdErr,  (aggregated over multiple experiments)\n",
    "\n",
    "import re\n",
    "from os import listdir\n",
    "from os.path import isfile, join\n",
    "#outputDir=\"RawResults_2022_11_03_13_12_27\"\n",
    "outputDir=\"RawResults_2022_11_17_12_52_24\"\n",
    "\n",
    "localOutputDir='/home/fabric/work/' + outputDir\n",
    "print(\"Started Data Analysis for files in \" + localOutputDir + \"...\")\n",
    "rawOutputFiles = [f for f in listdir(localOutputDir) if isfile(join(localOutputDir, f))]\n",
    "print(rawOutputFiles)\n",
    "\n",
    "resultsArray=[]\n",
    "for rawOutputFile in rawOutputFiles:     \n",
    "    if (rawOutputFile.startswith('type')  ):\n",
    "        print(\"\\tprocessing raw output file \" + rawOutputFile)\n",
    "        filenameArray=re.split('_',rawOutputFile)\n",
    "        etype=re.split('type', filenameArray[0])[1]\n",
    "        CC=re.split('CC', filenameArray[1])[1]\n",
    "        expNo=int(re.split('exp', filenameArray[2])[1])\n",
    "        path=re.split('path', filenameArray[3])[1]\n",
    "        trial=int(re.split('trial', filenameArray[4])[1])\n",
    "        timeArray=[]\n",
    "        tputArray=[]        \n",
    "        with open(localOutputDir + \"/\" + rawOutputFile, 'r') as f:           \n",
    "            for line in f.readlines():\n",
    "                    if 'Mbits/sec' in line and 'sender' not in line and 'receiver' not in line:\n",
    "                        timeArray.append(float(re.split('\\s+',re.split('-', line)[1])[0]))                    \n",
    "                        tputArray.append(float(re.split('\\s+',line)[6]))\n",
    "                    if 'Mbits/sec' in line and 'receiver' in line: \n",
    "                        avgTput=float(re.split('\\s+', line)[6])                     \n",
    "            resultsArray.append({\"etype\":etype,\n",
    "                                 \"CC\":CC,\n",
    "                                 \"expNo\":expNo,\n",
    "                                 \"path\":path,\n",
    "                                 \"trial\":trial,\n",
    "                                 \"avgTput\":avgTput,\n",
    "                                 \"time\":timeArray, \n",
    "                                 \"tput\": tputArray})\n",
    "           # print(resultsArray)"
   ]
  },
  {
   "cell_type": "code",
   "execution_count": null,
   "id": "c45a2dfb-f7e9-4596-a061-f13b176cf09e",
   "metadata": {},
   "outputs": [],
   "source": [
    "print(resultsArray)\n",
    "import pandas as pd\n",
    "df= pd.DataFrame(resultsArray)\n",
    "df"
   ]
  },
  {
   "cell_type": "code",
   "execution_count": null,
   "id": "4fb973e3-7684-478b-88dd-938b29a295a8",
   "metadata": {},
   "outputs": [],
   "source": [
    "#g=df.groupby(['path','trial','etype'])['avgTput']\n",
    "g=df.groupby(['path','trial','etype']).agg({'avgTput':['mean','sem']}) # sem: standard error of mean\n",
    "g.reset_index(inplace=True, drop=False )\n",
    "g"
   ]
  },
  {
   "cell_type": "markdown",
   "id": "34ae7238-0070-40be-bb5d-f71302f99693",
   "metadata": {},
   "source": [
    "## Delete slice"
   ]
  },
  {
   "cell_type": "code",
   "execution_count": null,
   "id": "c7d56c80-ad5e-47f4-ac68-e94c8867eef1",
   "metadata": {},
   "outputs": [],
   "source": [
    "#fablib.delete_slice(slice_name)"
   ]
  }
 ],
 "metadata": {
  "kernelspec": {
   "display_name": "Python 3 (ipykernel)",
   "language": "python",
   "name": "python3"
  },
  "language_info": {
   "codemirror_mode": {
    "name": "ipython",
    "version": 3
   },
   "file_extension": ".py",
   "mimetype": "text/x-python",
   "name": "python",
   "nbconvert_exporter": "python",
   "pygments_lexer": "ipython3",
   "version": "3.9.7"
  }
 },
 "nbformat": 4,
 "nbformat_minor": 5
}
